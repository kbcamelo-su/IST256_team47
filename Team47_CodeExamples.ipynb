{
 "cells": [
  {
   "cell_type": "markdown",
   "metadata": {},
   "source": [
    "<h1> Code Examples | TEAM 47 </h1>\n",
    "<h3>Creating a dataframe: </h3>"
   ]
  },
  {
   "cell_type": "code",
   "execution_count": 1,
   "metadata": {},
   "outputs": [],
   "source": [
    "import pandas as pd\n",
    "import numpy as np\n",
    "\n",
    "# this turns off warning messages\n",
    "import warnings\n",
    "warnings.filterwarnings('ignore')"
   ]
  },
  {
   "cell_type": "code",
   "execution_count": 2,
   "metadata": {},
   "outputs": [
    {
     "data": {
      "text/html": [
       "<div>\n",
       "<style scoped>\n",
       "    .dataframe tbody tr th:only-of-type {\n",
       "        vertical-align: middle;\n",
       "    }\n",
       "\n",
       "    .dataframe tbody tr th {\n",
       "        vertical-align: top;\n",
       "    }\n",
       "\n",
       "    .dataframe thead th {\n",
       "        text-align: right;\n",
       "    }\n",
       "</style>\n",
       "<table border=\"1\" class=\"dataframe\">\n",
       "  <thead>\n",
       "    <tr style=\"text-align: right;\">\n",
       "      <th></th>\n",
       "      <th>name</th>\n",
       "      <th>lastname</th>\n",
       "      <th>address</th>\n",
       "      <th>closestdining</th>\n",
       "      <th>suid</th>\n",
       "    </tr>\n",
       "  </thead>\n",
       "  <tbody>\n",
       "    <tr>\n",
       "      <th>0</th>\n",
       "      <td>Kevin</td>\n",
       "      <td>Camelo</td>\n",
       "      <td>420 Lambreth Ln.</td>\n",
       "      <td>Goldstein Dining Hall</td>\n",
       "      <td>338030842</td>\n",
       "    </tr>\n",
       "    <tr>\n",
       "      <th>1</th>\n",
       "      <td>Cynthia</td>\n",
       "      <td>Gonzalez</td>\n",
       "      <td>330 Stadium Pl.</td>\n",
       "      <td>Sadler Dining Hall</td>\n",
       "      <td>610349224</td>\n",
       "    </tr>\n",
       "    <tr>\n",
       "      <th>2</th>\n",
       "      <td>Hanna</td>\n",
       "      <td>Yacubov</td>\n",
       "      <td>744 Euclid Ave.</td>\n",
       "      <td>Ernie Davis Dining Hall</td>\n",
       "      <td>452630840</td>\n",
       "    </tr>\n",
       "  </tbody>\n",
       "</table>\n",
       "</div>"
      ],
      "text/plain": [
       "      name  lastname           address            closestdining       suid\n",
       "0    Kevin    Camelo  420 Lambreth Ln.    Goldstein Dining Hall  338030842\n",
       "1  Cynthia  Gonzalez   330 Stadium Pl.       Sadler Dining Hall  610349224\n",
       "2    Hanna   Yacubov   744 Euclid Ave.  Ernie Davis Dining Hall  452630840"
      ]
     },
     "execution_count": 2,
     "metadata": {},
     "output_type": "execute_result"
    }
   ],
   "source": [
    "# Creating a dataframe:\n",
    "users = [{'name': 'Kevin','lastname': 'Camelo', 'address' : '420 Lambreth Ln.', 'closestdining' : 'Goldstein Dining Hall', 'suid' : '338030842'},\n",
    "        {'name': 'Cynthia','lastname': 'Gonzalez', 'address' : '330 Stadium Pl.', 'closestdining' : 'Sadler Dining Hall', 'suid' : '610349224'},\n",
    "        {'name': 'Hanna','lastname': 'Yacubov', 'address' : '744 Euclid Ave.', 'closestdining' : 'Ernie Davis Dining Hall', 'suid' : '452630840'}]\n",
    "donators = pd.DataFrame(users)\n",
    "donators = donators[['name', 'lastname', 'address', 'closestdining', 'suid']]\n",
    "donators.head()"
   ]
  },
  {
   "cell_type": "markdown",
   "metadata": {},
   "source": [
    "<h3>Converting the dataframe into a CSV:</h3>"
   ]
  },
  {
   "cell_type": "code",
   "execution_count": 3,
   "metadata": {},
   "outputs": [],
   "source": [
    "donators.to_csv('donators.csv', header = True, index = False)"
   ]
  },
  {
   "cell_type": "markdown",
   "metadata": {},
   "source": [
    "<img src=\"CSVproof.png\">"
   ]
  },
  {
   "cell_type": "markdown",
   "metadata": {},
   "source": [
    "<h3>Reading and manipulating donators.csv with Pandas:</h3>"
   ]
  },
  {
   "cell_type": "code",
   "execution_count": 4,
   "metadata": {},
   "outputs": [
    {
     "data": {
      "text/html": [
       "<div>\n",
       "<style scoped>\n",
       "    .dataframe tbody tr th:only-of-type {\n",
       "        vertical-align: middle;\n",
       "    }\n",
       "\n",
       "    .dataframe tbody tr th {\n",
       "        vertical-align: top;\n",
       "    }\n",
       "\n",
       "    .dataframe thead th {\n",
       "        text-align: right;\n",
       "    }\n",
       "</style>\n",
       "<table border=\"1\" class=\"dataframe\">\n",
       "  <thead>\n",
       "    <tr style=\"text-align: right;\">\n",
       "      <th></th>\n",
       "      <th>name</th>\n",
       "      <th>lastname</th>\n",
       "      <th>address</th>\n",
       "      <th>closestdining</th>\n",
       "      <th>suid</th>\n",
       "    </tr>\n",
       "  </thead>\n",
       "  <tbody>\n",
       "    <tr>\n",
       "      <th>0</th>\n",
       "      <td>Kevin</td>\n",
       "      <td>Camelo</td>\n",
       "      <td>420 Lambreth Ln.</td>\n",
       "      <td>Goldstein Dining Hall</td>\n",
       "      <td>338030842</td>\n",
       "    </tr>\n",
       "    <tr>\n",
       "      <th>1</th>\n",
       "      <td>Cynthia</td>\n",
       "      <td>Gonzalez</td>\n",
       "      <td>330 Stadium Pl.</td>\n",
       "      <td>Sadler Dining Hall</td>\n",
       "      <td>610349224</td>\n",
       "    </tr>\n",
       "    <tr>\n",
       "      <th>2</th>\n",
       "      <td>Hanna</td>\n",
       "      <td>Yacubov</td>\n",
       "      <td>744 Euclid Ave.</td>\n",
       "      <td>Ernie Davis Dining Hall</td>\n",
       "      <td>452630840</td>\n",
       "    </tr>\n",
       "  </tbody>\n",
       "</table>\n",
       "</div>"
      ],
      "text/plain": [
       "      name  lastname           address            closestdining       suid\n",
       "0    Kevin    Camelo  420 Lambreth Ln.    Goldstein Dining Hall  338030842\n",
       "1  Cynthia  Gonzalez   330 Stadium Pl.       Sadler Dining Hall  610349224\n",
       "2    Hanna   Yacubov   744 Euclid Ave.  Ernie Davis Dining Hall  452630840"
      ]
     },
     "execution_count": 4,
     "metadata": {},
     "output_type": "execute_result"
    }
   ],
   "source": [
    "donatorlist = pd.read_csv('donators.csv')\n",
    "donatorlist"
   ]
  },
  {
   "cell_type": "code",
   "execution_count": 5,
   "metadata": {},
   "outputs": [
    {
     "name": "stdout",
     "output_type": "stream",
     "text": [
      "Enter your first name: Hello\n",
      "Enter your last name: How\n",
      "Enter your address: Are\n",
      "Enter your SUID: You\n"
     ]
    },
    {
     "data": {
      "text/html": [
       "<div>\n",
       "<style scoped>\n",
       "    .dataframe tbody tr th:only-of-type {\n",
       "        vertical-align: middle;\n",
       "    }\n",
       "\n",
       "    .dataframe tbody tr th {\n",
       "        vertical-align: top;\n",
       "    }\n",
       "\n",
       "    .dataframe thead th {\n",
       "        text-align: right;\n",
       "    }\n",
       "</style>\n",
       "<table border=\"1\" class=\"dataframe\">\n",
       "  <thead>\n",
       "    <tr style=\"text-align: right;\">\n",
       "      <th></th>\n",
       "      <th>name</th>\n",
       "      <th>lastname</th>\n",
       "      <th>address</th>\n",
       "      <th>closestdining</th>\n",
       "      <th>suid</th>\n",
       "    </tr>\n",
       "  </thead>\n",
       "  <tbody>\n",
       "    <tr>\n",
       "      <th>0</th>\n",
       "      <td>Kevin</td>\n",
       "      <td>Camelo</td>\n",
       "      <td>420 Lambreth Ln.</td>\n",
       "      <td>Goldstein Dining Hall</td>\n",
       "      <td>338030842</td>\n",
       "    </tr>\n",
       "    <tr>\n",
       "      <th>1</th>\n",
       "      <td>Cynthia</td>\n",
       "      <td>Gonzalez</td>\n",
       "      <td>330 Stadium Pl.</td>\n",
       "      <td>Sadler Dining Hall</td>\n",
       "      <td>610349224</td>\n",
       "    </tr>\n",
       "    <tr>\n",
       "      <th>2</th>\n",
       "      <td>Hanna</td>\n",
       "      <td>Yacubov</td>\n",
       "      <td>744 Euclid Ave.</td>\n",
       "      <td>Ernie Davis Dining Hall</td>\n",
       "      <td>452630840</td>\n",
       "    </tr>\n",
       "    <tr>\n",
       "      <th>3</th>\n",
       "      <td>Hello</td>\n",
       "      <td>How</td>\n",
       "      <td>Are</td>\n",
       "      <td>none</td>\n",
       "      <td>You</td>\n",
       "    </tr>\n",
       "  </tbody>\n",
       "</table>\n",
       "</div>"
      ],
      "text/plain": [
       "      name  lastname           address            closestdining       suid\n",
       "0    Kevin    Camelo  420 Lambreth Ln.    Goldstein Dining Hall  338030842\n",
       "1  Cynthia  Gonzalez   330 Stadium Pl.       Sadler Dining Hall  610349224\n",
       "2    Hanna   Yacubov   744 Euclid Ave.  Ernie Davis Dining Hall  452630840\n",
       "3    Hello       How               Are                     none        You"
      ]
     },
     "execution_count": 5,
     "metadata": {},
     "output_type": "execute_result"
    }
   ],
   "source": [
    "#Using variables to append a new user onto the donator list.\n",
    "first_name = input(\"Enter your first name: \")\n",
    "last_name = input(\"Enter your last name: \")\n",
    "address = input(\"Enter your address: \")\n",
    "suid = input(\"Enter your SUID: \")\n",
    "    \n",
    "newuser = pd.DataFrame([[first_name, last_name, address, \"none\", suid]], columns = ['name', 'lastname', 'address', 'closestdining', 'suid'])\n",
    "donatorlist.append(newuser, ignore_index = True)"
   ]
  },
  {
   "cell_type": "markdown",
   "metadata": {},
   "source": [
    "<h3>Adding a column to the data frame:</h3>"
   ]
  },
  {
   "cell_type": "code",
   "execution_count": 6,
   "metadata": {},
   "outputs": [
    {
     "data": {
      "text/html": [
       "<div>\n",
       "<style scoped>\n",
       "    .dataframe tbody tr th:only-of-type {\n",
       "        vertical-align: middle;\n",
       "    }\n",
       "\n",
       "    .dataframe tbody tr th {\n",
       "        vertical-align: top;\n",
       "    }\n",
       "\n",
       "    .dataframe thead th {\n",
       "        text-align: right;\n",
       "    }\n",
       "</style>\n",
       "<table border=\"1\" class=\"dataframe\">\n",
       "  <thead>\n",
       "    <tr style=\"text-align: right;\">\n",
       "      <th></th>\n",
       "      <th>name</th>\n",
       "      <th>lastname</th>\n",
       "      <th>address</th>\n",
       "      <th>closestdining</th>\n",
       "      <th>suid</th>\n",
       "      <th>mealallotment</th>\n",
       "    </tr>\n",
       "  </thead>\n",
       "  <tbody>\n",
       "    <tr>\n",
       "      <th>0</th>\n",
       "      <td>Kevin</td>\n",
       "      <td>Camelo</td>\n",
       "      <td>420 Lambreth Ln.</td>\n",
       "      <td>Goldstein Dining Hall</td>\n",
       "      <td>338030842</td>\n",
       "      <td>NaN</td>\n",
       "    </tr>\n",
       "    <tr>\n",
       "      <th>1</th>\n",
       "      <td>Cynthia</td>\n",
       "      <td>Gonzalez</td>\n",
       "      <td>330 Stadium Pl.</td>\n",
       "      <td>Sadler Dining Hall</td>\n",
       "      <td>610349224</td>\n",
       "      <td>NaN</td>\n",
       "    </tr>\n",
       "    <tr>\n",
       "      <th>2</th>\n",
       "      <td>Hanna</td>\n",
       "      <td>Yacubov</td>\n",
       "      <td>744 Euclid Ave.</td>\n",
       "      <td>Ernie Davis Dining Hall</td>\n",
       "      <td>452630840</td>\n",
       "      <td>NaN</td>\n",
       "    </tr>\n",
       "  </tbody>\n",
       "</table>\n",
       "</div>"
      ],
      "text/plain": [
       "      name  lastname           address            closestdining       suid  \\\n",
       "0    Kevin    Camelo  420 Lambreth Ln.    Goldstein Dining Hall  338030842   \n",
       "1  Cynthia  Gonzalez   330 Stadium Pl.       Sadler Dining Hall  610349224   \n",
       "2    Hanna   Yacubov   744 Euclid Ave.  Ernie Davis Dining Hall  452630840   \n",
       "\n",
       "   mealallotment  \n",
       "0            NaN  \n",
       "1            NaN  \n",
       "2            NaN  "
      ]
     },
     "execution_count": 6,
     "metadata": {},
     "output_type": "execute_result"
    }
   ],
   "source": [
    "donatorlist['mealallotment'] = np.nan\n",
    "donatorlist"
   ]
  },
  {
   "cell_type": "code",
   "execution_count": 7,
   "metadata": {},
   "outputs": [
    {
     "data": {
      "text/html": [
       "<div>\n",
       "<style scoped>\n",
       "    .dataframe tbody tr th:only-of-type {\n",
       "        vertical-align: middle;\n",
       "    }\n",
       "\n",
       "    .dataframe tbody tr th {\n",
       "        vertical-align: top;\n",
       "    }\n",
       "\n",
       "    .dataframe thead th {\n",
       "        text-align: right;\n",
       "    }\n",
       "</style>\n",
       "<table border=\"1\" class=\"dataframe\">\n",
       "  <thead>\n",
       "    <tr style=\"text-align: right;\">\n",
       "      <th></th>\n",
       "      <th>name</th>\n",
       "      <th>lastname</th>\n",
       "      <th>address</th>\n",
       "      <th>closestdining</th>\n",
       "      <th>suid</th>\n",
       "      <th>mealallotment</th>\n",
       "    </tr>\n",
       "  </thead>\n",
       "  <tbody>\n",
       "    <tr>\n",
       "      <th>0</th>\n",
       "      <td>Kevin</td>\n",
       "      <td>Camelo</td>\n",
       "      <td>420 Lambreth Ln.</td>\n",
       "      <td>Goldstein Dining Hall</td>\n",
       "      <td>338030842</td>\n",
       "      <td>0.0</td>\n",
       "    </tr>\n",
       "    <tr>\n",
       "      <th>1</th>\n",
       "      <td>Cynthia</td>\n",
       "      <td>Gonzalez</td>\n",
       "      <td>330 Stadium Pl.</td>\n",
       "      <td>Sadler Dining Hall</td>\n",
       "      <td>610349224</td>\n",
       "      <td>0.0</td>\n",
       "    </tr>\n",
       "    <tr>\n",
       "      <th>2</th>\n",
       "      <td>Hanna</td>\n",
       "      <td>Yacubov</td>\n",
       "      <td>744 Euclid Ave.</td>\n",
       "      <td>Ernie Davis Dining Hall</td>\n",
       "      <td>452630840</td>\n",
       "      <td>0.0</td>\n",
       "    </tr>\n",
       "  </tbody>\n",
       "</table>\n",
       "</div>"
      ],
      "text/plain": [
       "      name  lastname           address            closestdining       suid  \\\n",
       "0    Kevin    Camelo  420 Lambreth Ln.    Goldstein Dining Hall  338030842   \n",
       "1  Cynthia  Gonzalez   330 Stadium Pl.       Sadler Dining Hall  610349224   \n",
       "2    Hanna   Yacubov   744 Euclid Ave.  Ernie Davis Dining Hall  452630840   \n",
       "\n",
       "   mealallotment  \n",
       "0            0.0  \n",
       "1            0.0  \n",
       "2            0.0  "
      ]
     },
     "execution_count": 7,
     "metadata": {},
     "output_type": "execute_result"
    }
   ],
   "source": [
    "#filling NAN values with 0's\n",
    "donatorlist['mealallotment'] = donatorlist['mealallotment'].fillna(0)\n",
    "donatorlist"
   ]
  },
  {
   "cell_type": "markdown",
   "metadata": {},
   "source": [
    "<h3>Using an API to find the closest dining hall to an address:</h3>"
   ]
  },
  {
   "cell_type": "code",
   "execution_count": null,
   "metadata": {},
   "outputs": [],
   "source": []
  },
  {
   "cell_type": "markdown",
   "metadata": {},
   "source": [
    "<h3>Working with two dataframes to make changes to eachother:</h3>"
   ]
  },
  {
   "cell_type": "code",
   "execution_count": null,
   "metadata": {},
   "outputs": [],
   "source": []
  },
  {
   "cell_type": "markdown",
   "metadata": {},
   "source": [
    "<h3>Notifying a user based on a certain condition being met:</h3>"
   ]
  },
  {
   "cell_type": "code",
   "execution_count": 10,
   "metadata": {},
   "outputs": [
    {
     "data": {
      "text/plain": [
       "time.struct_time(tm_year=2018, tm_mon=11, tm_mday=30, tm_hour=20, tm_min=30, tm_sec=9, tm_wday=4, tm_yday=334, tm_isdst=0)"
      ]
     },
     "execution_count": 10,
     "metadata": {},
     "output_type": "execute_result"
    }
   ],
   "source": [
    "import time\n",
    "time.localtime()"
   ]
  },
  {
   "cell_type": "code",
   "execution_count": null,
   "metadata": {},
   "outputs": [],
   "source": []
  }
 ],
 "metadata": {
  "kernelspec": {
   "display_name": "Python 3",
   "language": "python",
   "name": "python3"
  },
  "language_info": {
   "codemirror_mode": {
    "name": "ipython",
    "version": 3
   },
   "file_extension": ".py",
   "mimetype": "text/x-python",
   "name": "python",
   "nbconvert_exporter": "python",
   "pygments_lexer": "ipython3",
   "version": "3.6.6"
  }
 },
 "nbformat": 4,
 "nbformat_minor": 2
}
